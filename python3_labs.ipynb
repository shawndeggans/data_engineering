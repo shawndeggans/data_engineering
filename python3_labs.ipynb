{
 "cells": [
  {
   "cell_type": "code",
   "execution_count": 2,
   "metadata": {},
   "outputs": [],
   "source": [
    "from typing import List"
   ]
  },
  {
   "cell_type": "code",
   "execution_count": 21,
   "metadata": {},
   "outputs": [],
   "source": [
    "class Solution:\n",
    "    def twoSum(self, nums: List[int], target: int) -> List[int]:\n",
    "        \n",
    "            \n",
    "        return []"
   ]
  },
  {
   "cell_type": "code",
   "execution_count": 22,
   "metadata": {},
   "outputs": [
    {
     "name": "stdout",
     "output_type": "stream",
     "text": [
      "2\n",
      "7\n"
     ]
    }
   ],
   "source": [
    "\n",
    "nums = [2,7,11,15]\n",
    "target = 9\n",
    "sol = Solution()\n",
    "list = sol.twoSum(nums=nums, target=target)\n",
    "\n",
    "\n"
   ]
  },
  {
   "cell_type": "code",
   "execution_count": 18,
   "metadata": {},
   "outputs": [
    {
     "name": "stdout",
     "output_type": "stream",
     "text": [
      "3 3\n",
      "3 0\n",
      "4 3\n",
      "4 1\n",
      "5 3\n",
      "5 2\n",
      "[1, 2, 2, 3, 5, 6]\n"
     ]
    }
   ],
   "source": [
    "nums1 = [1,2,3,0,0,0]\n",
    "m = 3\n",
    "nums2 = [2,5,6]\n",
    "n = 3\n",
    "\n",
    "# Loop through positions m to m+n-1\n",
    "for i in range(m, m+n):\n",
    "    # Which nums2 value should go here?\n",
    "    # If we're at position i in nums1, we want nums2[i-m]\n",
    "    nums1[i] = nums2[i-m]  # No need for insert, just assign!\n",
    "\n",
    "nums1.sort()\n",
    "print(nums1)\n",
    "    "
   ]
  },
  {
   "cell_type": "code",
   "execution_count": 45,
   "metadata": {},
   "outputs": [
    {
     "name": "stdout",
     "output_type": "stream",
     "text": [
      "[0, 1, 3, 0, 4]\n",
      "5\n"
     ]
    }
   ],
   "source": [
    "# Remove Element \n",
    "#nums = [3,2,2,3]\n",
    "#val = 3\n",
    "\n",
    "nums = [0,1,2,2,3,0,4,2]\n",
    "val = 2\n",
    "\n",
    "\n",
    "while nums.count(val) > 0:\n",
    "    nums.remove(val)\n",
    "    \n",
    "   \n",
    "print(nums) \n",
    "print(len(nums))\n",
    "\n"
   ]
  },
  {
   "cell_type": "markdown",
   "metadata": {},
   "source": [
    "Building on the last method, we can remove duplicates using a similar process."
   ]
  },
  {
   "cell_type": "code",
   "execution_count": 3,
   "metadata": {},
   "outputs": [
    {
     "name": "stdout",
     "output_type": "stream",
     "text": [
      "[0, 1, 2, 3, 4]\n"
     ]
    }
   ],
   "source": [
    "#nums = [1,1,2]\n",
    "nums = [0,0,1,1,1,2,2,3,3,4]\n",
    "# remove duplicates from an array in place\n",
    "\n",
    "for n in nums:\n",
    "    # here we can use our remove pattern to remove the value\n",
    "    while nums.count(n) > 1:\n",
    "        nums.remove(n)\n",
    "    \n",
    "# outside the for loop, we sort\n",
    "nums.sort()\n",
    "\n",
    "print(nums)\n",
    "\n"
   ]
  },
  {
   "cell_type": "markdown",
   "metadata": {},
   "source": [
    "Given an array nums of size n, return the majority element.\n",
    "\n",
    "The majority element is the element that appears more than ⌊n / 2⌋ times. You may assume that the majority element always exists in the array.\n",
    "\n",
    "So what we want to do is find the number that appears the most\n",
    "\n",
    "```\n",
    "Example 1:\n",
    "\n",
    "Input: nums = [3,2,3]\n",
    "Output: 3\n",
    "Example 2:\n",
    "\n",
    "Input: nums = [2,2,1,1,1,2,2]\n",
    "Output: 2\n",
    "```"
   ]
  },
  {
   "cell_type": "code",
   "execution_count": 19,
   "metadata": {},
   "outputs": [
    {
     "name": "stdout",
     "output_type": "stream",
     "text": [
      "3\n"
     ]
    }
   ],
   "source": [
    "nums = [3,3,4]\n",
    "highnumber = 0\n",
    "numcount = 0\n",
    "\n",
    "for n in nums:\n",
    "    if nums.count(n) > numcount:\n",
    "        numcount = nums.count(n)\n",
    "        highnumber = n\n",
    "        \n",
    "print(highnumber)"
   ]
  },
  {
   "cell_type": "markdown",
   "metadata": {},
   "source": [
    "The above worked fine for most use cases, but when running against a very large array, we hit timeout issues. So we need to find a way to manage this with greater efficiency. \n",
    "\n",
    "The timeout issues were obviously because I'm calling count over and over again, which isn't a big deal for these smaller test arrays, but not great for an array with over 1k entries.\n",
    "\n",
    "So in the code below, we want to use a dictionary to build up an inventory or view of the array's data. Basically, we have a key that is the number we want to return if it is the largest inventory item, and then we associate the count of that number as a value in the dictionary. "
   ]
  },
  {
   "cell_type": "code",
   "execution_count": 28,
   "metadata": {},
   "outputs": [
    {
     "name": "stdout",
     "output_type": "stream",
     "text": [
      "3\n"
     ]
    }
   ],
   "source": [
    "nums = [3,3,4]\n",
    "\n",
    "from typing import List\n",
    "\n",
    "def majorityElement(nums: List[int]) -> int:\n",
    "    counts = {}\n",
    "    for num in nums:\n",
    "        counts[num] = counts.get(num, 0) + 1\n",
    "        if counts[num] > len(nums) // 2:\n",
    "            return num\n",
    "            \n",
    "print(majorityElement(nums=nums))\n"
   ]
  },
  {
   "cell_type": "code",
   "execution_count": null,
   "metadata": {},
   "outputs": [],
   "source": []
  }
 ],
 "metadata": {
  "language_info": {
   "name": "python"
  }
 },
 "nbformat": 4,
 "nbformat_minor": 2
}
