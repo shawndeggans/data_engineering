{
 "cells": [
  {
   "cell_type": "code",
   "execution_count": 2,
   "metadata": {},
   "outputs": [],
   "source": [
    "from typing import List"
   ]
  },
  {
   "cell_type": "code",
   "execution_count": 21,
   "metadata": {},
   "outputs": [],
   "source": [
    "class Solution:\n",
    "    def twoSum(self, nums: List[int], target: int) -> List[int]:\n",
    "        \n",
    "            \n",
    "        return []"
   ]
  },
  {
   "cell_type": "code",
   "execution_count": 22,
   "metadata": {},
   "outputs": [
    {
     "name": "stdout",
     "output_type": "stream",
     "text": [
      "2\n",
      "7\n"
     ]
    }
   ],
   "source": [
    "\n",
    "nums = [2,7,11,15]\n",
    "target = 9\n",
    "sol = Solution()\n",
    "list = sol.twoSum(nums=nums, target=target)\n",
    "\n",
    "\n"
   ]
  },
  {
   "cell_type": "code",
   "execution_count": 18,
   "metadata": {},
   "outputs": [
    {
     "name": "stdout",
     "output_type": "stream",
     "text": [
      "3 3\n",
      "3 0\n",
      "4 3\n",
      "4 1\n",
      "5 3\n",
      "5 2\n",
      "[1, 2, 2, 3, 5, 6]\n"
     ]
    }
   ],
   "source": [
    "nums1 = [1,2,3,0,0,0]\n",
    "m = 3\n",
    "nums2 = [2,5,6]\n",
    "n = 3\n",
    "\n",
    "# Loop through positions m to m+n-1\n",
    "for i in range(m, m+n):\n",
    "    # Which nums2 value should go here?\n",
    "    # If we're at position i in nums1, we want nums2[i-m]\n",
    "    nums1[i] = nums2[i-m]  # No need for insert, just assign!\n",
    "\n",
    "nums1.sort()\n",
    "print(nums1)\n",
    "    "
   ]
  },
  {
   "cell_type": "code",
   "execution_count": 45,
   "metadata": {},
   "outputs": [
    {
     "name": "stdout",
     "output_type": "stream",
     "text": [
      "[0, 1, 3, 0, 4]\n",
      "5\n"
     ]
    }
   ],
   "source": [
    "# Remove Element \n",
    "#nums = [3,2,2,3]\n",
    "#val = 3\n",
    "\n",
    "nums = [0,1,2,2,3,0,4,2]\n",
    "val = 2\n",
    "\n",
    "\n",
    "while nums.count(val) > 0:\n",
    "    nums.remove(val)\n",
    "    \n",
    "   \n",
    "print(nums) \n",
    "print(len(nums))\n",
    "\n"
   ]
  },
  {
   "cell_type": "code",
   "execution_count": null,
   "metadata": {},
   "outputs": [],
   "source": []
  }
 ],
 "metadata": {
  "language_info": {
   "name": "python"
  }
 },
 "nbformat": 4,
 "nbformat_minor": 2
}
